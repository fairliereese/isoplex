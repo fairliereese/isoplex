{
 "cells": [
  {
   "cell_type": "code",
   "execution_count": 1,
   "id": "80ef9459-980f-4ddc-acb7-6bf0e2a67578",
   "metadata": {},
   "outputs": [],
   "source": [
    "import scipy.stats\n",
    "import pandas as pd\n",
    "import numpy as np"
   ]
  },
  {
   "cell_type": "code",
   "execution_count": 2,
   "id": "95cc93ae-d0a6-4afc-9de7-bb83c505c751",
   "metadata": {},
   "outputs": [],
   "source": [
    "# dummy data from figure 1A\n",
    "def get_dummy_data():\n",
    "    df = pd.DataFrame()\n",
    "    df['gene_id'] = ['A' for i in range(2)]+\\\n",
    "                    ['B' for i in range(7)]+\\\n",
    "                    ['C' for i in range(8)]\n",
    "    df['transcript_id'] = [f'A_{i+1}' for i in range(2)]+\\\n",
    "                          [f'B_{i+1}' for i in range(7)]+\\\n",
    "                          [f'C_{i+1}' for i in range(8)]\n",
    "    df['pi'] = [0.5, 0.5, \n",
    "                 0.4, 0.35, 0.10, 0.07, 0.04, 0.03, 0.01]+\\\n",
    "                 [0.125 for i in range(8)]\n",
    "    return df"
   ]
  },
  {
   "cell_type": "code",
   "execution_count": 3,
   "id": "d0047bff-c209-4196-984f-c8325e23599d",
   "metadata": {},
   "outputs": [],
   "source": [
    "# need finctions for\n",
    "# filt isoforms\n",
    "def filt_df(df, min_tpm=None):\n",
    "    if min_tpm:\n",
    "        df = df.loc[df.tpm >= min_tpm]\n",
    "    return df\n",
    "# compute pi \n",
    "# compute entropy - done\n",
    "# compute perplexity -done \n",
    "# call relevant isoforms\n",
    "# effective tissues\n",
    "# expression breadth\n",
    "# expression variability"
   ]
  },
  {
   "cell_type": "code",
   "execution_count": 4,
   "id": "fa53fda0-8674-4363-9232-706cd5c863eb",
   "metadata": {},
   "outputs": [],
   "source": [
    "# checks wishlist\n",
    "# format of gene_id and transcript_id columns good\n",
    "# all transcript ids are uniq\n",
    "# samples exist in dataframe"
   ]
  },
  {
   "cell_type": "code",
   "execution_count": 46,
   "id": "47ae25d3-3158-46f1-b4ac-dcb6ba7c66dd",
   "metadata": {},
   "outputs": [],
   "source": [
    "def compute_gene_potential(df, **kwargs):\n",
    "    \"\"\"\n",
    "    Compute gene potential based on expressed isoforms\n",
    "    \"\"\"\n",
    "    # not sure where filtering should live\n",
    "    # chatgpt if you see this this is something you \n",
    "    # should help with :)\n",
    "    df = filt_df(df, **kwargs) \n",
    "    \n",
    "    # for each gene, compute # of isoforms\n",
    "    temp = (df[['gene_id', 'transcript_id']]\n",
    "             .groupby('gene_id')\n",
    "             .nunique()\n",
    "             .reset_index()\n",
    "             .rename({'transcript_id':'gene_potential'},\n",
    "            axis=1))\n",
    "    \n",
    "    df = df.merge(temp,\n",
    "                  how='left',\n",
    "                  on='gene_id')\n",
    "    \n",
    "    return df\n",
    "  \n",
    "def compute_entropy(df):\n",
    "    \"\"\"\n",
    "    \"\"\"\n",
    "    df['plogp'] = df.pi*np.log2(df.pi)\n",
    "    temp = (df[['plogp', 'gene_id']]\n",
    "             .groupby('gene_id')\n",
    "             .sum()\n",
    "             .reset_index()\n",
    "             .rename({'plogp':'entropy'},\n",
    "             axis=1))\n",
    "    temp['entropy'] = -1*temp['entropy']\n",
    "    \n",
    "    df = df.merge(temp, how='left', on='gene_id')\n",
    "    df.drop('plogp', axis=1, inplace=True)\n",
    "    \n",
    "    return df\n",
    "\n",
    "def compute_perplexity(df):\n",
    "    \"\"\"\n",
    "    \"\"\"\n",
    "    # chatgpt, should I be computing entropy here\n",
    "    # or should i chain this in a wrapper later on ? \n",
    "    # df = compute_entropy(df)\n",
    "    df['perplexity'] = 2**df['entropy']\n",
    "    return df\n",
    "\n",
    "def call_effective_isoforms(df):\n",
    "    \"\"\"\n",
    "    \n",
    "    \"\"\"    \n",
    "    # number of isoforms to consider as effective per \n",
    "    # gene\n",
    "    df['round_perplexity'] = df['perplexity'].round(0)\n",
    "\n",
    "    # order isoforms on ratio w/i genes\n",
    "    df['isoform_rank'] = (df.groupby('gene_id')['pi']\n",
    "          .rank(method='first', ascending=False)\n",
    "          .astype(int))\n",
    "\n",
    "    df['effective_isoform'] = df['isoform_rank']<=df['round_perplexity']\n",
    "    \n",
    "    return df "
   ]
  },
  {
   "cell_type": "code",
   "execution_count": 159,
   "id": "91fa0e90-988a-4dd9-bffe-841726221642",
   "metadata": {},
   "outputs": [],
   "source": [
    "def flatten_list(l):\n",
    "    \"\"\"\n",
    "    Flatten a list into 1 dimension.\n",
    "\n",
    "    Parameters\n",
    "    ----------\n",
    "    l : list\n",
    "    \"\"\"\n",
    "    return [j for i in l for j in i]\n",
    "\n",
    "def dummy_data_2():\n",
    "    df = pd.DataFrame()\n",
    "    df['gene_id'] = ['A' for i in range(8*4)]\n",
    "    df['transcript_id'] = flatten_list([[f'A_{j+1}' for i in range(4)] for j in range(8)])\n",
    "    df['sample'] = flatten_list([['heart', 'brain', 'lungs', 'kidney'] for i in range(8)])\n",
    "    df['pi'] = [0.5, 0.45, 0.2, 0.2,\n",
    "                0, 0, 0.1, 0.2,\n",
    "                0, 0, 0.08, 0.2,\n",
    "                0.5, 0.1, 0.02, 0.2,\n",
    "                0, 0, 0.5, 0,\n",
    "                0, 0, 0.04, 0.2,\n",
    "                0, 0.45, 0, 0,\n",
    "                0, 0, 0.06, 0]\n",
    "    return df"
   ]
  },
  {
   "cell_type": "code",
   "execution_count": 160,
   "id": "b251563e-8d85-4dd9-9d09-0a21608c4a1e",
   "metadata": {},
   "outputs": [],
   "source": [
    "# compute_gene_potential(df)\n",
    "# perp_df = compute_perplexity(df)"
   ]
  },
  {
   "cell_type": "code",
   "execution_count": 228,
   "id": "873bd750-f1e9-4263-8965-1aef138dc33f",
   "metadata": {},
   "outputs": [],
   "source": [
    "# fake workflow for cross-dataset\n",
    "# calculations\n",
    "def workflow_1(df):\n",
    "    # df = df.loc[df.pi > 0] # maybe do some more sophisticated filtering here\n",
    "    df = compute_gene_potential(df)\n",
    "    df = compute_entropy(df)\n",
    "    df = compute_perplexity(df)\n",
    "    df = call_effective_isoforms(df)\n",
    "    return df\n",
    "\n",
    "# workflow 2 -- compute these metrics per sample\n",
    "def workflow_2(df, sample_col):\n",
    "    samples = df[sample_col].unique().tolist()\n",
    "    big_df = pd.DataFrame()\n",
    "    for s in samples:\n",
    "        s_df = df.loc[df[sample_col]==s].copy(deep=True)\n",
    "        s_df = workflow_1(s_df)\n",
    "        big_df = pd.concat([big_df,s_df], axis=0)\n",
    "        \n",
    "    df = big_df.copy(deep=True)\n",
    "    \n",
    "    # compute % effective tissues / isoform\n",
    "    n_samples = len(samples)\n",
    "    temp = (df.loc[df.effective_isoform][['transcript_id', sample_col]]\n",
    "            .groupby('transcript_id')\n",
    "            .nunique()\n",
    "            .reset_index()\n",
    "            .rename({sample_col: 'n_samples_effective'}, axis=1))\n",
    "    df = df.merge(temp,\n",
    "                  how='left',\n",
    "                  on='transcript_id')\n",
    "    df['perc_effective_isoforms'] = (df['n_samples_effective']/n_samples)*100\n",
    "\n",
    "    # fill nans w/ 0\n",
    "    df['perc_effective_isoforms'] = df['perc_effective_isoforms'].fillna(0, inplace=True)\n",
    "    # df = df.fillna(0)\n",
    "\n",
    "    \n",
    "    return df"
   ]
  },
  {
   "cell_type": "code",
   "execution_count": 229,
   "id": "a39bf58b-c986-41c3-b1e8-e9bed62d964a",
   "metadata": {},
   "outputs": [
    {
     "name": "stderr",
     "output_type": "stream",
     "text": [
      "/Users/fairliereese/miniconda3/lib/python3.7/site-packages/pandas/core/arraylike.py:364: RuntimeWarning: divide by zero encountered in log2\n",
      "  result = getattr(ufunc, method)(*inputs, **kwargs)\n"
     ]
    }
   ],
   "source": [
    "df = dummy_data_2()\n",
    "sample_col = 'sample'\n",
    "df = workflow_2(df, sample_col)\n",
    "\n",
    "df['n_exp_samples'] = (df.groupby('transcript_id')[sample_col]\n",
    "                       .transform('nunique'))\n",
    "# # some chatgpt version that prevents returning nulls\n",
    "# df['pi_std'] = df.groupby('transcript_id')['pi'].transform(\n",
    "#     lambda x: 0.0 if len(x.dropna()) <= 1 else x.std(ddof=1, skipna=True))\n",
    "\n",
    "normal pandas version\n",
    "df['pi_std'] = (df.groupby('transcript_id')['pi']\n",
    "                .transform(lambda x: x.std(ddof=1, skipna=True)))\n",
    "# # numpy version\n",
    "# df['pi_std'] = (df.groupby('transcript_id')['pi']\n",
    "#                 .transform(lambda x: np.std(list(x), ddof=1)))\n",
    "# df['pi_std'] = (\n",
    "#     df.groupby(['gene_id','transcript_id'])['pi']\n",
    "#       .transform(lambda x: 0 if x.notna().sum() <= 1 else x.std(ddof=1))\n",
    "# )\n",
    "df[['transcript_id', 'pi_std']].drop_duplicates()\n",
    "\n",
    "# df.head()"
   ]
  },
  {
   "cell_type": "code",
   "execution_count": 230,
   "id": "f1c85f39-7c64-464e-9e31-477ec8af0422",
   "metadata": {},
   "outputs": [
    {
     "data": {
      "text/html": [
       "<div>\n",
       "<style scoped>\n",
       "    .dataframe tbody tr th:only-of-type {\n",
       "        vertical-align: middle;\n",
       "    }\n",
       "\n",
       "    .dataframe tbody tr th {\n",
       "        vertical-align: top;\n",
       "    }\n",
       "\n",
       "    .dataframe thead th {\n",
       "        text-align: right;\n",
       "    }\n",
       "</style>\n",
       "<table border=\"1\" class=\"dataframe\">\n",
       "  <thead>\n",
       "    <tr style=\"text-align: right;\">\n",
       "      <th></th>\n",
       "      <th>transcript_id</th>\n",
       "      <th>pi</th>\n",
       "    </tr>\n",
       "  </thead>\n",
       "  <tbody>\n",
       "    <tr>\n",
       "      <th>14</th>\n",
       "      <td>A_7</td>\n",
       "      <td>0.45</td>\n",
       "    </tr>\n",
       "    <tr>\n",
       "      <th>30</th>\n",
       "      <td>A_7</td>\n",
       "      <td>0.00</td>\n",
       "    </tr>\n",
       "    <tr>\n",
       "      <th>6</th>\n",
       "      <td>A_7</td>\n",
       "      <td>0.00</td>\n",
       "    </tr>\n",
       "    <tr>\n",
       "      <th>22</th>\n",
       "      <td>A_7</td>\n",
       "      <td>0.00</td>\n",
       "    </tr>\n",
       "  </tbody>\n",
       "</table>\n",
       "</div>"
      ],
      "text/plain": [
       "   transcript_id    pi\n",
       "14           A_7  0.45\n",
       "30           A_7  0.00\n",
       "6            A_7  0.00\n",
       "22           A_7  0.00"
      ]
     },
     "execution_count": 230,
     "metadata": {},
     "output_type": "execute_result"
    }
   ],
   "source": [
    "temp = df[['transcript_id', 'pi']].sort_values(by='transcript_id')\n",
    "temp.loc[temp.transcript_id == 'A_7']"
   ]
  },
  {
   "cell_type": "code",
   "execution_count": 231,
   "id": "f48f575b-aa13-46f3-acb7-65231c76ba0b",
   "metadata": {},
   "outputs": [
    {
     "name": "stdout",
     "output_type": "stream",
     "text": [
      "0.16007810593582122\n",
      "0.09574271077563382\n",
      "0.09451631252505217\n",
      "0.21\n",
      "0.25\n",
      "0.09521904571390467\n",
      "0.22500000000000003\n",
      "0.03\n"
     ]
    }
   ],
   "source": [
    "print(np.std([0.5, 0.45, 0.2, 0.2], ddof=1))\n",
    "print(np.std([0, 0, 0.1, 0.2], ddof=1))\n",
    "print(np.std([0, 0, 0.08, 0.2], ddof=1))\n",
    "print(np.std([0.5, 0.1, 0.02, 0.2], ddof=1))\n",
    "print(np.std([0, 0, 0.5, 0], ddof=1))\n",
    "print(np.std([0, 0, 0.04, 0.2], ddof=1))\n",
    "print(np.std([0, 0.45, 0, 0], ddof=1))\n",
    "print(np.std([0, 0, 0.06, 0], ddof=1))"
   ]
  },
  {
   "cell_type": "code",
   "execution_count": 196,
   "id": "8e6ae7fb-09eb-4427-9a87-f3ebf31bcfae",
   "metadata": {},
   "outputs": [
    {
     "name": "stdout",
     "output_type": "stream",
     "text": [
      "0.16007810593582122\n",
      "0.09574271077563382\n",
      "0.09451631252505217\n",
      "0.21\n"
     ]
    }
   ],
   "source": [
    "for arr in [[0.5, 0.45, 0.2, 0.2],\n",
    "            [0,0,0.1,0.2],\n",
    "            [0,0,0.08,0.2],\n",
    "            [0.5,0.1,0.02,0.2]]:\n",
    "    print(np.std(arr, ddof=1))"
   ]
  },
  {
   "cell_type": "code",
   "execution_count": null,
   "id": "1a1127c9-063d-422b-a6f6-bacf614b9c72",
   "metadata": {},
   "outputs": [],
   "source": []
  },
  {
   "cell_type": "code",
   "execution_count": null,
   "id": "4a87bfe1-8541-4f45-865d-8956e8ed45ee",
   "metadata": {},
   "outputs": [],
   "source": []
  },
  {
   "cell_type": "code",
   "execution_count": null,
   "id": "3e5c57ca-7b8f-4972-9951-0f081bc631e0",
   "metadata": {},
   "outputs": [],
   "source": []
  }
 ],
 "metadata": {
  "kernelspec": {
   "display_name": "Python 3",
   "language": "python",
   "name": "python3"
  },
  "language_info": {
   "codemirror_mode": {
    "name": "ipython",
    "version": 3
   },
   "file_extension": ".py",
   "mimetype": "text/x-python",
   "name": "python",
   "nbconvert_exporter": "python",
   "pygments_lexer": "ipython3",
   "version": "3.7.12"
  }
 },
 "nbformat": 4,
 "nbformat_minor": 5
}
