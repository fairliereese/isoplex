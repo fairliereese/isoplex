{
 "cells": [
  {
   "cell_type": "code",
   "execution_count": 1,
   "id": "b6d13a62-75d1-49fb-a05c-dd68e009cebd",
   "metadata": {},
   "outputs": [],
   "source": [
    "from utils import * "
   ]
  },
  {
   "cell_type": "code",
   "execution_count": 32,
   "id": "439a7673-7601-4c37-b47d-d2729e5709bc",
   "metadata": {},
   "outputs": [],
   "source": [
    "def get_dummy_data_counts():\n",
    "    df = pd.DataFrame()\n",
    "    df['gene_id'] = ['A' for i in range(2)]+\\\n",
    "                    ['B' for i in range(7)]+\\\n",
    "                    ['C' for i in range(8)]\n",
    "    df['transcript_id'] = [f'A_{i+1}' for i in range(2)]+\\\n",
    "                          [f'B_{i+1}' for i in range(7)]+\\\n",
    "                          [f'C_{i+1}' for i in range(8)]\n",
    "    df['counts'] = ([47, 47]+ \n",
    "                    [i*28 for i in [0.4, 0.35, 0.10, 0.07, 0.04, 0.03, 0.01]]+\n",
    "                    [0.125 for i in range(8)])\n",
    "        \n",
    "    return df\n",
    "\n",
    "def dummy_counts_data_sample():\n",
    "    \"\"\"\n",
    "    Generate a dummy multi-sample dataset with counts instead of pi values.\n",
    "    \n",
    "    Returns\n",
    "    -------\n",
    "    pd.DataFrame\n",
    "        Columns: 'gene_id', 'transcript_id', 'sample', 'counts'\n",
    "    \"\"\"\n",
    "    import pandas as pd\n",
    "\n",
    "    genes = ['A']  # single gene for simplicity\n",
    "    transcripts = [f'A_{i+1}' for i in range(8)]\n",
    "    samples = ['heart', 'brain', 'lungs', 'kidney']\n",
    "    \n",
    "    # create repeated combinations\n",
    "    df = pd.DataFrame({\n",
    "        'gene_id': flatten_list([[g]*len(samples) for g in genes*len(transcripts)]),\n",
    "        'transcript_id': flatten_list([[t]*len(samples) for t in transcripts]),\n",
    "        'sample': samples * len(transcripts),\n",
    "    })\n",
    "    \n",
    "    # assign dummy counts\n",
    "    df['counts'] = [\n",
    "        50, 45, 20, 20,   # A_1\n",
    "        0, 0, 10, 20,     # A_2\n",
    "        0, 0, 8, 20,      # A_3\n",
    "        50, 10, 2, 20,    # A_4\n",
    "        0, 0, 50, 0,      # A_5\n",
    "        0, 0, 4, 20,      # A_6\n",
    "        0, 45, 0, 0,      # A_7\n",
    "        0, 0, 6, 0        # A_8\n",
    "    ]\n",
    "    \n",
    "    return df\n"
   ]
  },
  {
   "cell_type": "code",
   "execution_count": 3,
   "id": "630121b6-afcf-4b44-88a6-132ac8b43345",
   "metadata": {},
   "outputs": [
    {
     "data": {
      "text/plain": [
       "True"
      ]
     },
     "execution_count": 3,
     "metadata": {},
     "output_type": "execute_result"
    }
   ],
   "source": [
    "# # all positive counts\n",
    "# df = get_dummy_data_counts()\n",
    "# validate_counts_input(df)"
   ]
  },
  {
   "cell_type": "code",
   "execution_count": 4,
   "id": "d7bee416-b97c-4e30-8d58-1fd5620da159",
   "metadata": {},
   "outputs": [],
   "source": [
    "# # w/ neg counts\n",
    "# df = get_dummy_data_counts()\n",
    "# df['counts'] = df['counts'].tolist()[:-1]+[-1]\n",
    "# validate_counts_input(df)"
   ]
  },
  {
   "cell_type": "code",
   "execution_count": 5,
   "id": "2b18dd53-cbe8-4991-97c3-6455b4bf477d",
   "metadata": {},
   "outputs": [],
   "source": [
    "# # w/o sample col when it needs one\n",
    "# df = get_dummy_data_counts()\n",
    "# validate_counts_input(df, sample_col='sample')"
   ]
  },
  {
   "cell_type": "code",
   "execution_count": 6,
   "id": "d10563ca-1497-4244-bcdd-2495fc998a57",
   "metadata": {},
   "outputs": [],
   "source": [
    "# # w/o gene id col when it needs one\n",
    "# df = get_dummy_data_counts()\n",
    "# validate_counts_input(df, sample_col='sample')"
   ]
  },
  {
   "cell_type": "code",
   "execution_count": 20,
   "id": "04334334-2688-4cb1-ab03-0ace089b4556",
   "metadata": {},
   "outputs": [],
   "source": [
    "# # dummy data from figure 1A\n",
    "# def get_dummy_data():\n",
    "#     df = pd.DataFrame()\n",
    "#     df['gene_id'] = ['A' for i in range(2)]+\\\n",
    "#                     ['B' for i in range(7)]+\\\n",
    "#                     ['C' for i in range(8)]\n",
    "#     df['transcript_id'] = [f'A_{i+1}' for i in range(2)]+\\\n",
    "#                           [f'B_{i+1}' for i in range(7)]+\\\n",
    "#                           [f'C_{i+1}' for i in range(8)]\n",
    "#     df['pi'] = [0.5, 0.5, \n",
    "#                  0.4, 0.35, 0.10, 0.07, 0.04, 0.03, 0.01]+\\\n",
    "#                  [0.125 for i in range(8)]\n",
    "#     return df"
   ]
  },
  {
   "cell_type": "code",
   "execution_count": 33,
   "id": "7982627e-e5e7-4041-abc1-b9224ba31647",
   "metadata": {},
   "outputs": [],
   "source": [
    "df = get_dummy_data_counts()\n",
    "df = compute_isoform_metrics(df)"
   ]
  },
  {
   "cell_type": "code",
   "execution_count": 34,
   "id": "fa309802-da0a-42af-8f98-61173956b56d",
   "metadata": {},
   "outputs": [
    {
     "data": {
      "text/html": [
       "<div>\n",
       "<style scoped>\n",
       "    .dataframe tbody tr th:only-of-type {\n",
       "        vertical-align: middle;\n",
       "    }\n",
       "\n",
       "    .dataframe tbody tr th {\n",
       "        vertical-align: top;\n",
       "    }\n",
       "\n",
       "    .dataframe thead th {\n",
       "        text-align: right;\n",
       "    }\n",
       "</style>\n",
       "<table border=\"1\" class=\"dataframe\">\n",
       "  <thead>\n",
       "    <tr style=\"text-align: right;\">\n",
       "      <th></th>\n",
       "      <th>gene_id</th>\n",
       "      <th>transcript_id</th>\n",
       "      <th>sample</th>\n",
       "      <th>counts</th>\n",
       "    </tr>\n",
       "  </thead>\n",
       "  <tbody>\n",
       "    <tr>\n",
       "      <th>0</th>\n",
       "      <td>A</td>\n",
       "      <td>A_1</td>\n",
       "      <td>heart</td>\n",
       "      <td>50</td>\n",
       "    </tr>\n",
       "    <tr>\n",
       "      <th>1</th>\n",
       "      <td>A</td>\n",
       "      <td>A_1</td>\n",
       "      <td>brain</td>\n",
       "      <td>45</td>\n",
       "    </tr>\n",
       "    <tr>\n",
       "      <th>2</th>\n",
       "      <td>A</td>\n",
       "      <td>A_1</td>\n",
       "      <td>lungs</td>\n",
       "      <td>20</td>\n",
       "    </tr>\n",
       "    <tr>\n",
       "      <th>3</th>\n",
       "      <td>A</td>\n",
       "      <td>A_1</td>\n",
       "      <td>kidney</td>\n",
       "      <td>20</td>\n",
       "    </tr>\n",
       "    <tr>\n",
       "      <th>4</th>\n",
       "      <td>A</td>\n",
       "      <td>A_2</td>\n",
       "      <td>heart</td>\n",
       "      <td>0</td>\n",
       "    </tr>\n",
       "  </tbody>\n",
       "</table>\n",
       "</div>"
      ],
      "text/plain": [
       "  gene_id transcript_id  sample  counts\n",
       "0       A           A_1   heart      50\n",
       "1       A           A_1   brain      45\n",
       "2       A           A_1   lungs      20\n",
       "3       A           A_1  kidney      20\n",
       "4       A           A_2   heart       0"
      ]
     },
     "execution_count": 34,
     "metadata": {},
     "output_type": "execute_result"
    }
   ],
   "source": [
    "df = dummy_counts_data_sample()\n",
    "df = compute_multi_sample_isoform_metrics(df, 'sample')"
   ]
  },
  {
   "cell_type": "code",
   "execution_count": null,
   "id": "f49dc862-4b42-4b86-8d76-d6a9e11956b6",
   "metadata": {},
   "outputs": [],
   "source": []
  }
 ],
 "metadata": {
  "kernelspec": {
   "display_name": "Python 3",
   "language": "python",
   "name": "python3"
  },
  "language_info": {
   "codemirror_mode": {
    "name": "ipython",
    "version": 3
   },
   "file_extension": ".py",
   "mimetype": "text/x-python",
   "name": "python",
   "nbconvert_exporter": "python",
   "pygments_lexer": "ipython3",
   "version": "3.7.12"
  }
 },
 "nbformat": 4,
 "nbformat_minor": 5
}
